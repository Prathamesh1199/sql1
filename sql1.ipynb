{
 "cells": [
  {
   "cell_type": "code",
   "execution_count": null,
   "id": "e027764f-979f-4415-aa40-5f669ae2ac36",
   "metadata": {},
   "outputs": [],
   "source": [
    "Given table \n",
    "\n",
    "\n",
    "product_id product_name category price\n",
    "\n",
    "1 T-Shirt Clothing 10.99\n",
    "\n",
    "2 Socks Clothing 4.99\n",
    "\n",
    "3 Hat Accessories 12.99\n",
    "\n",
    "4 Shoes Footwear 59.99\n",
    "\n",
    "5 Backpack Accessories 29.99\n",
    "\n",
    "6 Pants Clothing 24.99\n",
    "\n",
    "\n"
   ]
  },
  {
   "cell_type": "code",
   "execution_count": null,
   "id": "fc8a78e9-3ab4-48f5-a9ae-e9e79264354b",
   "metadata": {},
   "outputs": [],
   "source": [
    "SELECT DISTINCT category FROM products;"
   ]
  },
  {
   "cell_type": "code",
   "execution_count": null,
   "id": "8dc75dfd-97d5-405a-9a5f-05a561181faa",
   "metadata": {},
   "outputs": [],
   "source": [
    "When you execute this query with the data provided "
   ]
  },
  {
   "cell_type": "code",
   "execution_count": null,
   "id": "6a7d6996-d63d-4adf-bcdf-d6300cfb2d1e",
   "metadata": {},
   "outputs": [],
   "source": [
    "#Result\n",
    "'category\n",
    "\n",
    "Clothing\n",
    "Accessories\n",
    "Footwear"
   ]
  }
 ],
 "metadata": {
  "kernelspec": {
   "display_name": "Python 3 (ipykernel)",
   "language": "python",
   "name": "python3"
  },
  "language_info": {
   "codemirror_mode": {
    "name": "ipython",
    "version": 3
   },
   "file_extension": ".py",
   "mimetype": "text/x-python",
   "name": "python",
   "nbconvert_exporter": "python",
   "pygments_lexer": "ipython3",
   "version": "3.10.8"
  }
 },
 "nbformat": 4,
 "nbformat_minor": 5
}
